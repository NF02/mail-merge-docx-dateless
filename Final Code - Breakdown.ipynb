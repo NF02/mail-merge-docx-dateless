{
 "cells": [
  {
   "cell_type": "markdown",
   "metadata": {},
   "source": [
    "## Full Code"
   ]
  },
  {
   "cell_type": "code",
   "execution_count": 8,
   "metadata": {},
   "outputs": [],
   "source": [
    "from openpyxl import load_workbook #used to import the Excel Data\n",
    "from mailmerge import MailMerge #used for merge tags. If getting error, uninstall and install mailmerge-docx\n",
    "from datetime import datetime #used to work with date times\n",
    "\n",
    "# Setting up Excel sheet variables\n",
    "wb = load_workbook('SampleData.xlsx') #open excel workbook\n",
    "sheet = wb['SalesOrders'] #Tab to get information\n",
    "max_row = sheet.max_row #count of all of the rows\n",
    "\n",
    "# Getting Unique reps. Need to make each of their reports\n",
    "rep_list = []\n",
    "for cell_row in range(2 , max_row+1):\n",
    "    rep = sheet.cell(row = cell_row, column = 3).value\n",
    "    rep_list.append(rep)\n",
    "unique_rep_list = list(set(rep_list)) #getting unique list of reps\n",
    "\n",
    "# For each rep, create their order reports\n",
    "for rep in unique_rep_list:\n",
    "    sales_history_list = [] #needed to create the docs dynamically\n",
    "    raw_subtotal_list = [] #needed to calculate the total\n",
    "    \n",
    "    # Setting up Word document variables. Need to reuse template for each rep\n",
    "    template_doc = \"OrderTemplate.docx\"\n",
    "    word_doc = MailMerge(template_doc)    \n",
    "\n",
    "    for cell_row in range(2 , max_row+1):\n",
    "        #looping to check the current rep in spreadsheet\n",
    "        current_rep = sheet.cell(row = cell_row, column = 3).value\n",
    "\n",
    "        #Checking to see if line item is for rep\n",
    "        if current_rep == rep:\n",
    "            #formating date\n",
    "            raw_date_time = sheet.cell(row = cell_row, column = 1).value #unformatted datetime as a string\n",
    "            clean_date_time = raw_date_time.strftime(\"%m/%d/%Y\") #converts datetime back into formatted string\n",
    "            \n",
    "            #Formatting subtotals\n",
    "            raw_subtotal = sheet.cell(row = cell_row, column = 7).value\n",
    "            raw_subtotal_list.append(raw_subtotal) #appending raw number for the total calculation\n",
    "            \n",
    "            #convert the number into a string and format (example 1,278.25)\n",
    "            clean_subtotal = \"{:,.2f}\".format(raw_subtotal) \n",
    "            \n",
    "            #Appending product as a dict into a list, which will be merged as a table\n",
    "            product_dict = {\n",
    "            'Date' : clean_date_time,\n",
    "            'Item' : str(sheet.cell(row = cell_row, column = 4).value),\n",
    "            'Quantity' : str(sheet.cell(row = cell_row, column = 5).value),\n",
    "            'Cost' : str(sheet.cell(row = cell_row, column = 6).value),\n",
    "            'Subtotal' : clean_subtotal\n",
    "            }\n",
    "\n",
    "            #Appending dicts to merge as a table\n",
    "            sales_history_list.append(product_dict)\n",
    "\n",
    "    # summing raw numbers into a total\n",
    "    total = sum(raw_subtotal_list)\n",
    "\n",
    "    # Merging the name and formatting totals  \n",
    "    word_doc.merge(\n",
    "    Name = rep,\n",
    "    Total = \"{:,.2f}\".format(total)\n",
    "    )\n",
    "\n",
    "    word_doc.merge_rows('Date', sales_history_list) #merge which creates table\n",
    "    word_doc.write(f'Invoice for {rep}.docx') #merge which creates Word doc and name it\n",
    "            "
   ]
  }
 ],
 "metadata": {
  "kernelspec": {
   "display_name": "Python 3",
   "language": "python",
   "name": "python3"
  },
  "language_info": {
   "codemirror_mode": {
    "name": "ipython",
    "version": 3
   },
   "file_extension": ".py",
   "mimetype": "text/x-python",
   "name": "python",
   "nbconvert_exporter": "python",
   "pygments_lexer": "ipython3",
   "version": "3.7.3"
  }
 },
 "nbformat": 4,
 "nbformat_minor": 2
}
