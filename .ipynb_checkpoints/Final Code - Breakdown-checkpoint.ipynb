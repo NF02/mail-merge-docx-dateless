{
 "cells": [
  {
   "cell_type": "markdown",
   "metadata": {},
   "source": [
    "# Code breakdown"
   ]
  },
  {
   "cell_type": "markdown",
   "metadata": {},
   "source": [
    "## Libraries used.\n",
    "\n",
    "Openpyxl is used to import the Excel spreadsheet data. I can parse data from each row for the merges.\n",
    "\n",
    "Mailmerge is used to populate data into the work doc using mergefields.<br>\n",
    "If you get an error when you import this package, try uninstalling mailmerge then reinstalling docx-mailmerge. <br>\n",
    "https://pypi.org/project/docx-mailmerge/\n",
    "\n",
    "datetime is used to format the date objects."
   ]
  },
  {
   "cell_type": "code",
   "execution_count": null,
   "metadata": {},
   "outputs": [],
   "source": [
    "from openpyxl import load_workbook #used to import the Excel Data\n",
    "from mailmerge import MailMerge #used for merge tags. If getting error, uninstall and install docx-mailmerge\n",
    "from datetime import datetime #used to work with date times"
   ]
  },
  {
   "cell_type": "markdown",
   "metadata": {},
   "source": [
    "## Excel Setup\n",
    "\n",
    "`wb` is loading the Excel workbook. From there, `sheet` selects the tab and `max_row` represent <br>\n",
    "how many rows of data is in the sheet.\n",
    "\n",
    "`max_row` is needed when looping through the rows of data."
   ]
  },
  {
   "cell_type": "code",
   "execution_count": null,
   "metadata": {},
   "outputs": [],
   "source": [
    "# Setting up Excel sheet variables\n",
    "wb = load_workbook('SampleData.xlsx') #open excel workbook\n",
    "sheet = wb['SalesOrders'] #Tab to get information\n",
    "max_row = sheet.max_row #count of all of the rows"
   ]
  },
  {
   "cell_type": "markdown",
   "metadata": {},
   "source": [
    "## Unique reps\n",
    "Looping through all the possible sales reps, then making a distinct list using `list(set())`"
   ]
  },
  {
   "cell_type": "code",
   "execution_count": null,
   "metadata": {},
   "outputs": [],
   "source": [
    "# Getting Unique reps. Need to make each of their reports\n",
    "rep_list = []\n",
    "for cell_row in range(2 , max_row+1):\n",
    "    rep = sheet.cell(row = cell_row, column = 3).value\n",
    "    rep_list.append(rep)\n",
    "unique_rep_list = list(set(rep_list)) #getting unique list of reps"
   ]
  },
  {
   "cell_type": "markdown",
   "metadata": {},
   "source": [
    "## Loop: interating sales reps\n",
    "To create a document for each sales rep. We need to use the word document template for each rep. <br>\n",
    "The `sales_history_list` and `raw_subtotal_list` list will store information for the merge:\n",
    "\n",
    "- the `sales_history_list` will store nested dictionaries to merge data to the word doc\n",
    "- the `raw_subtotal_list` will store the individual subtotals, which is needed to calculate the `total`"
   ]
  },
  {
   "cell_type": "code",
   "execution_count": null,
   "metadata": {},
   "outputs": [],
   "source": [
    "for rep in unique_rep_list:\n",
    "    sales_history_list = [] #needed to create the docs dynamically\n",
    "    raw_subtotal_list = [] #needed to calculate the total\n",
    "    \n",
    "    # Setting up Word document variables. Need to reuse template for each rep\n",
    "    template_doc = \"OrderTemplate.docx\"\n",
    "    word_doc = MailMerge(template_doc)    "
   ]
  },
  {
   "cell_type": "markdown",
   "metadata": {},
   "source": [
    "## Nested Loop: Formating dates and numbers for reps\n",
    "\n",
    "For every row of data that pretains to a rep (`if current_rep == rep:`), we format clean the dates and subtotal\n",
    "\n",
    "The dates are formatted to show as 03/17/2020, using datetime's `strftime` function. <br>\n",
    "This converts the datetime into a formatted string for the merge.\n",
    "\n",
    "the subtotal is formatted to use commas and cents (example 1,278.25) using python built-in `format` method."
   ]
  },
  {
   "cell_type": "code",
   "execution_count": null,
   "metadata": {},
   "outputs": [],
   "source": [
    "for cell_row in range(2 , max_row+1):\n",
    "        #looping to check the current rep in spreadsheet\n",
    "        current_rep = sheet.cell(row = cell_row, column = 3).value\n",
    "\n",
    "        #Checking to see if line item is for rep\n",
    "        if current_rep == rep:\n",
    "            #formating date\n",
    "            raw_date_time = sheet.cell(row = cell_row, column = 1).value #unformatted datetime as a string\n",
    "            clean_date_time = raw_date_time.strftime(\"%m/%d/%Y\") #converts datetime back into formatted string\n",
    "            \n",
    "            #Formatting subtotals\n",
    "            raw_subtotal = sheet.cell(row = cell_row, column = 7).value\n",
    "            raw_subtotal_list.append(raw_subtotal) #appending raw number for the total calculation\n",
    "            \n",
    "            #convert the number into a string and format (example 1,278.25)\n",
    "            clean_subtotal = \"{:,.2f}\".format(raw_subtotal) \n",
    "            "
   ]
  },
  {
   "cell_type": "markdown",
   "metadata": {},
   "source": [
    "## Nested Loop (cont.) : interating the sales line items created in table\n",
    "`product_dict` is storing each row of datas from the spreadsheet for each rep. <br>\n",
    "each dictionary of data is appended to the `sales_history_list`"
   ]
  },
  {
   "cell_type": "code",
   "execution_count": null,
   "metadata": {},
   "outputs": [],
   "source": [
    "           #Appending product as a dict into a list, which will be merged as a table\n",
    "            product_dict = {\n",
    "            'Date' : clean_date_time,\n",
    "            'Item' : str(sheet.cell(row = cell_row, column = 4).value),\n",
    "            'Quantity' : str(sheet.cell(row = cell_row, column = 5).value),\n",
    "            'Cost' : str(sheet.cell(row = cell_row, column = 6).value),\n",
    "            'Subtotal' : clean_subtotal\n",
    "            }\n",
    "\n",
    "            #Appending dicts to merge as a table\n",
    "            sales_history_list.append(product_dict)"
   ]
  },
  {
   "cell_type": "markdown",
   "metadata": {},
   "source": [
    "## Dynamically creating order summaries using merged fields\n",
    "Calculate the total of the subtotal\n",
    "\n",
    "afterwards, merge the name and total calculated for each rep. then the `sales_history_list` that contains the dicts <br>\n",
    "of data are merged into the table.\n",
    "\n",
    "Last, the document is created and named using rep name."
   ]
  },
  {
   "cell_type": "code",
   "execution_count": null,
   "metadata": {},
   "outputs": [],
   "source": [
    "    # summing raw numbers into a total\n",
    "    total = sum(raw_subtotal_list)\n",
    "\n",
    "    # Merging the name and formatting totals  \n",
    "    word_doc.merge(\n",
    "    Name = rep,\n",
    "    Total = \"{:,.2f}\".format(total)\n",
    "    )\n",
    "\n",
    "    word_doc.merge_rows('Date', sales_history_list) #merge which creates table\n",
    "    word_doc.write(f'Invoice for {rep}.docx') #merge which creates Word doc and name it"
   ]
  },
  {
   "cell_type": "markdown",
   "metadata": {},
   "source": [
    "## Full Code"
   ]
  },
  {
   "cell_type": "code",
   "execution_count": 8,
   "metadata": {},
   "outputs": [],
   "source": [
    "from openpyxl import load_workbook #used to import the Excel Data\n",
    "from mailmerge import MailMerge #used for merge tags. If getting error, uninstall and install mailmerge-docx\n",
    "from datetime import datetime #used to work with date times\n",
    "\n",
    "# Setting up Excel sheet variables\n",
    "wb = load_workbook('SampleData.xlsx') #open excel workbook\n",
    "sheet = wb['SalesOrders'] #Tab to get information\n",
    "max_row = sheet.max_row #count of all of the rows\n",
    "\n",
    "# Getting Unique reps. Need to make each of their reports\n",
    "rep_list = []\n",
    "for cell_row in range(2 , max_row+1):\n",
    "    rep = sheet.cell(row = cell_row, column = 3).value\n",
    "    rep_list.append(rep)\n",
    "unique_rep_list = list(set(rep_list)) #getting unique list of reps\n",
    "\n",
    "# For each rep, create their order reports\n",
    "for rep in unique_rep_list:\n",
    "    sales_history_list = [] #needed to create the docs dynamically\n",
    "    raw_subtotal_list = [] #needed to calculate the total\n",
    "    \n",
    "    # Setting up Word document variables. Need to reuse template for each rep\n",
    "    template_doc = \"OrderTemplate.docx\"\n",
    "    word_doc = MailMerge(template_doc)    \n",
    "\n",
    "    for cell_row in range(2 , max_row+1):\n",
    "        #looping to check the current rep in spreadsheet\n",
    "        current_rep = sheet.cell(row = cell_row, column = 3).value\n",
    "\n",
    "        #Checking to see if line item is for rep\n",
    "        if current_rep == rep:\n",
    "            #formating date\n",
    "            raw_date_time = sheet.cell(row = cell_row, column = 1).value #unformatted datetime as a string\n",
    "            clean_date_time = raw_date_time.strftime(\"%m/%d/%Y\") #converts datetime back into formatted string\n",
    "            \n",
    "            #Formatting subtotals\n",
    "            raw_subtotal = sheet.cell(row = cell_row, column = 7).value\n",
    "            raw_subtotal_list.append(raw_subtotal) #appending raw number for the total calculation\n",
    "            \n",
    "            #convert the number into a string and format (example 1,278.25)\n",
    "            clean_subtotal = \"{:,.2f}\".format(raw_subtotal) \n",
    "            \n",
    "            #Appending product as a dict into a list, which will be merged as a table\n",
    "            product_dict = {\n",
    "            'Date' : clean_date_time,\n",
    "            'Item' : str(sheet.cell(row = cell_row, column = 4).value),\n",
    "            'Quantity' : str(sheet.cell(row = cell_row, column = 5).value),\n",
    "            'Cost' : str(sheet.cell(row = cell_row, column = 6).value),\n",
    "            'Subtotal' : clean_subtotal\n",
    "            }\n",
    "\n",
    "            #Appending dicts to merge as a table\n",
    "            sales_history_list.append(product_dict)\n",
    "\n",
    "    # summing raw numbers into a total\n",
    "    total = sum(raw_subtotal_list)\n",
    "\n",
    "    # Merging the name and formatting totals  \n",
    "    word_doc.merge(\n",
    "    Name = rep,\n",
    "    Total = \"{:,.2f}\".format(total)\n",
    "    )\n",
    "\n",
    "    word_doc.merge_rows('Date', sales_history_list) #merge which creates table\n",
    "    word_doc.write(f'Invoice for {rep}.docx') #merge which creates Word doc and name it\n",
    "            "
   ]
  }
 ],
 "metadata": {
  "kernelspec": {
   "display_name": "Python 3",
   "language": "python",
   "name": "python3"
  },
  "language_info": {
   "codemirror_mode": {
    "name": "ipython",
    "version": 3
   },
   "file_extension": ".py",
   "mimetype": "text/x-python",
   "name": "python",
   "nbconvert_exporter": "python",
   "pygments_lexer": "ipython3",
   "version": "3.7.6"
  }
 },
 "nbformat": 4,
 "nbformat_minor": 2
}
